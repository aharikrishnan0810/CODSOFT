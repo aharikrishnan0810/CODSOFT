{
  "nbformat": 4,
  "nbformat_minor": 0,
  "metadata": {
    "colab": {
      "provenance": [],
      "authorship_tag": "ABX9TyOdeTjE8hjdYxBfC71vsjLi",
      "include_colab_link": true
    },
    "kernelspec": {
      "name": "python3",
      "display_name": "Python 3"
    },
    "language_info": {
      "name": "python"
    }
  },
  "cells": [
    {
      "cell_type": "markdown",
      "metadata": {
        "id": "view-in-github",
        "colab_type": "text"
      },
      "source": [
        "<a href=\"https://colab.research.google.com/github/aharikrishnan0810/CODSOFT/blob/main/Untitled0.ipynb\" target=\"_parent\"><img src=\"https://colab.research.google.com/assets/colab-badge.svg\" alt=\"Open In Colab\"/></a>"
      ]
    },
    {
      "cell_type": "code",
      "execution_count": null,
      "metadata": {
        "colab": {
          "base_uri": "https://localhost:8080/"
        },
        "id": "oC5hF1Oj69GT",
        "outputId": "50be230a-febb-47cf-dadf-abdd5a130977"
      },
      "outputs": [
        {
          "output_type": "stream",
          "name": "stdout",
          "text": [
            "Enter the first number: 10\n",
            "Enter the second number: 20\n",
            "Enter the operator \n",
            " addtion \n",
            " subration \n",
            " multiplication  \n",
            "  division \n",
            "addtion\n",
            "Result: 30.0\n"
          ]
        }
      ],
      "source": [
        "\n",
        "def calculate(num1, num2, operator):\n",
        "    if operator == \"addtion\":\n",
        "        return num1 + num2\n",
        "    elif operator == \"subration\":\n",
        "        return num1 - num2\n",
        "    elif operator == \"multiplication\":\n",
        "        return num1 * num2\n",
        "    elif operator == \"division\":\n",
        "        if num2 == 0:\n",
        "            return \"Cannot divide by zero\"\n",
        "        return num1 / num2\n",
        "    else:\n",
        "        return \"retry with correct operation\"\n",
        "\n",
        "try:\n",
        "    num1 = float(input(\"Enter the first number: \"))\n",
        "    num2 = float(input(\"Enter the second number: \"))\n",
        "    operator = input(\"Enter the operator \\n addtion \\n subration \\n multiplication  \\n  division \\n\")\n",
        "\n",
        "\n",
        "    result = calculate(num1, num2, operator)\n",
        "    print(f\"Result: {result}\")\n",
        "except ValueError:\n",
        "    print(\"Invalid input. Please enter valid numbers.\")"
      ]
    }
  ]
}