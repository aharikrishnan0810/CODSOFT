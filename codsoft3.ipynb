{
  "nbformat": 4,
  "nbformat_minor": 0,
  "metadata": {
    "colab": {
      "provenance": [],
      "authorship_tag": "ABX9TyP5wJEKoNRlc5iSyRvRE1vy",
      "include_colab_link": true
    },
    "kernelspec": {
      "name": "python3",
      "display_name": "Python 3"
    },
    "language_info": {
      "name": "python"
    }
  },
  "cells": [
    {
      "cell_type": "markdown",
      "metadata": {
        "id": "view-in-github",
        "colab_type": "text"
      },
      "source": [
        "<a href=\"https://colab.research.google.com/github/aharikrishnan0810/CODSOFT/blob/main/codesoft3.ipynb\" target=\"_parent\"><img src=\"https://colab.research.google.com/assets/colab-badge.svg\" alt=\"Open In Colab\"/></a>"
      ]
    },
    {
      "cell_type": "code",
      "execution_count": 1,
      "metadata": {
        "colab": {
          "base_uri": "https://localhost:8080/"
        },
        "id": "Fc7Ylqa4DHaH",
        "outputId": "4959de0e-bd58-4792-a714-462ee19dfb7e"
      },
      "outputs": [
        {
          "output_type": "stream",
          "name": "stdout",
          "text": [
            "Enter the desired password length: 5\n",
            "Generated Password: eSAn4\n"
          ]
        }
      ],
      "source": [
        "import random\n",
        "import string\n",
        "\n",
        "def generate_password(length):\n",
        "    lowercase_letters = string.ascii_lowercase\n",
        "    uppercase_letters = string.ascii_uppercase\n",
        "    digits = string.digits\n",
        "    special_characters = '!@#$%^&*()[]{}|:,.<>?'\n",
        "\n",
        "    if length < 4:\n",
        "        print(\"Password length should be at least 4 characters.\")\n",
        "        return\n",
        "    elif length < 8:\n",
        "        charset = lowercase_letters + uppercase_letters + digits\n",
        "    else:\n",
        "        charset = lowercase_letters + uppercase_letters + digits + special_characters\n",
        "\n",
        "    password = \"\"\n",
        "    for _ in range(length):\n",
        "\n",
        "        random_character = random.choice(charset)\n",
        "\n",
        "        password += random_character\n",
        "\n",
        "    return password\n",
        "\n",
        "\n",
        "try:\n",
        "    password_length = int(input(\"Enter the desired password length: \"))\n",
        "    generated_password = generate_password(password_length)\n",
        "    print(\"Generated Password:\", generated_password)\n",
        "except ValueError:\n",
        "    print(\"Please enter a valid number for password length.\")\n"
      ]
    }
  ]
}
